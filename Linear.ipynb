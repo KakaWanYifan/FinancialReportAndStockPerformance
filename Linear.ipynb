{
 "cells": [
  {
   "cell_type": "code",
   "execution_count": 57,
   "metadata": {
    "collapsed": true,
    "pycharm": {
     "is_executing": false,
     "name": "#%%\n"
    }
   },
   "outputs": [
    {
     "name": "stdout",
     "text": [
      "正规方程\n",
      "-0.16830086995114302\n"
     ],
     "output_type": "stream"
    }
   ],
   "source": [
    "# 导入pandas包，以读取数据\n",
    "import pandas as pd\n",
    "\n",
    "# 读取 data.xlsx 这个文件，q1这个sheet页的数据\n",
    "df_q1 = pd.read_excel('data.xlsx',sheet_name='q1')\n",
    "df_q2 = pd.read_excel('data.xlsx',sheet_name='q2')\n",
    "\n",
    "df_q1.replace(2007,14.2)\n",
    "df_q1.replace(2008,9.7)\n",
    "df_q1.replace(2009,9.4)\n",
    "df_q1.replace(2010,10.6)\n",
    "df_q1.replace(2011,9.5)\n",
    "df_q1.replace(2012,7.9)\n",
    "df_q1.replace(2013,7.8)\n",
    "\n",
    "df_q2.replace(2014,7.3)\n",
    "\n",
    "\n",
    "\n",
    "# 把正跌幅数据作为y\n",
    "y_train = df_q1['涨跌幅'].values\n",
    "# 把6个财务指标作为x\n",
    "x_train = df_q1.drop(['证券代码','证券名称','季度','报告期','日期1（报告发布日）','股价1（报告发布日股价）','日期2（发布日后5日）','股价2（发布日后5日股价）','涨跌幅'],axis=1).values\n",
    "\n",
    "# 把正跌幅数据作为y\n",
    "y_test = df_q2['涨跌幅'].values\n",
    "# 把6个财务指标作为x\n",
    "x_test = df_q2.drop(['证券代码','证券名称','季度','报告期','日期1（报告发布日）','股价1（报告发布日股价）','日期2（发布日后5日）','股价2（发布日后5日股价）','涨跌幅'],axis=1).values\n",
    "\n",
    "\n",
    "# 导入正规方程的包\n",
    "from sklearn.linear_model import LinearRegression\n",
    "print('正规方程')\n",
    "# 实例化正规方程\n",
    "lr = LinearRegression()\n",
    "# 训练模型\n",
    "lr.fit(x_train,y_train)\n",
    "# 打印模型的系数\n",
    "print(lr.score(x_test,y_test))"
   ]
  }
 ],
 "metadata": {
  "kernelspec": {
   "display_name": "Python 3",
   "language": "python",
   "name": "python3"
  },
  "language_info": {
   "codemirror_mode": {
    "name": "ipython",
    "version": 2
   },
   "file_extension": ".py",
   "mimetype": "text/x-python",
   "name": "python",
   "nbconvert_exporter": "python",
   "pygments_lexer": "ipython2",
   "version": "2.7.6"
  },
  "pycharm": {
   "stem_cell": {
    "cell_type": "raw",
    "source": [],
    "metadata": {
     "collapsed": false
    }
   }
  }
 },
 "nbformat": 4,
 "nbformat_minor": 0
}
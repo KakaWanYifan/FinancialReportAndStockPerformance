{
  "cells": [
    {
      "cell_type": "code",
      "execution_count": 35,
      "outputs": [
        {
          "name": "stdout",
          "text": [
            "正规方程\n-0.057865816933251546\n[ 0.0045437  -0.00307429  0.00501173  0.00338773 -0.00237922 -0.00106071]\n0.008468582578686226\n"
          ],
          "output_type": "stream"
        }
      ],
      "source": "\n# 导入pandas包，以读取数据\nimport pandas as pd\n\n# 读取 data.xlsx 这个文件，q1这个sheet页的数据\ndf_q1 \u003d pd.read_excel(\u0027data.xlsx\u0027,sheet_name\u003d\u0027q1\u0027)\ndf_q2 \u003d pd.read_excel(\u0027data.xlsx\u0027,sheet_name\u003d\u0027q2\u0027)\n\n# 把正跌幅数据作为y\ny_train \u003d df_q1[\u0027涨跌幅\u0027].values\n# 把6个财务指标作为x\nx_train \u003d df_q1[[\u0027经营活动产生的现金流量净额/负债合计\u0027,\u0027流动资产周转率\u0027,\u0027总资产周转率\u0027,\u0027总资产净利润ROA\u0027,\u0027总资产报酬率ROA\u0027,\u0027ROIC\u0027]].values\n\n# 把正跌幅数据作为y\ny_test \u003d df_q2[\u0027涨跌幅\u0027].values\n# 把6个财务指标作为x\nx_test \u003d df_q2[[\u0027经营活动产生的现金流量净额/负债合计\u0027,\u0027流动资产周转率\u0027,\u0027总资产周转率\u0027,\u0027总资产净利润ROA\u0027,\u0027总资产报酬率ROA\u0027,\u0027ROIC\u0027]].values\n\n# 导入正规方程的包\nfrom sklearn.linear_model import LinearRegression\nprint(\u0027正规方程\u0027)\n# 实例化正规方程\nlr \u003d LinearRegression()\n# 训练模型\nlr.fit(x_train,y_train)\n# 打印模型R2\nprint(lr.score(x_test,y_test))\n# 打印模型的系数\nprint(lr.coef_)\n# 打印模型的截距\nprint(lr.intercept_)",
      "metadata": {
        "pycharm": {
          "metadata": false,
          "name": "#%%\n",
          "is_executing": false
        }
      }
    }
  ],
  "metadata": {
    "kernelspec": {
      "display_name": "Python 3",
      "language": "python",
      "name": "python3"
    },
    "language_info": {
      "codemirror_mode": {
        "name": "ipython",
        "version": 2
      },
      "file_extension": ".py",
      "mimetype": "text/x-python",
      "name": "python",
      "nbconvert_exporter": "python",
      "pygments_lexer": "ipython2",
      "version": "2.7.6"
    },
    "pycharm": {
      "stem_cell": {
        "cell_type": "raw",
        "source": [],
        "metadata": {
          "collapsed": false
        }
      }
    },
    "stem_cell": {
      "cell_type": "raw",
      "source": "",
      "metadata": {
        "pycharm": {
          "metadata": false
        }
      }
    }
  },
  "nbformat": 4,
  "nbformat_minor": 0
}
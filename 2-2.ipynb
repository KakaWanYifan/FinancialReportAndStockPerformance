{
 "cells": [
  {
   "cell_type": "code",
   "execution_count": 1,
   "outputs": [
    {
     "name": "stdout",
     "text": [
      "GridSearchCV   BEGIN\n",
      "GridSearchCV   END\n准确率有\n0.4166666666666667\n最佳模型\nRandomForestClassifier(bootstrap=True, ccp_alpha=0.0, class_weight=None,\n                       criterion='gini', max_depth=2, max_features='auto',\n                       max_leaf_nodes=None, max_samples=None,\n                       min_impurity_decrease=0.0, min_impurity_split=None,\n                       min_samples_leaf=1, min_samples_split=2,\n                       min_weight_fraction_leaf=0.0, n_estimators=500,\n                       n_jobs=None, oob_score=False, random_state=1, verbose=0,\n                       warm_start=False)\n0.5142857142857142\n"
     ],
     "output_type": "stream"
    }
   ],
   "source": [
    "# 导入pandas包，以读取数据\n",
    "import pandas as pd\n",
    "from sklearn.ensemble import RandomForestClassifier\n",
    "from sklearn.model_selection import GridSearchCV\n",
    "\n",
    "# 读取 data.xlsx 这个文件，q1这个sheet页的数据\n",
    "df_q1 = pd.read_excel('data2nd.xls',sheet_name='q1')\n",
    "df_q2 = pd.read_excel('data2nd.xls',sheet_name='q2')\n",
    "\n",
    "# 把正跌幅数据作为y\n",
    "y_train = df_q1['涨跌'].values\n",
    "# 把6个财务指标作为x\n",
    "x_train = df_q1.drop(['证券代码','证券名称','年度','季度','报告期','日期1（报告发布日）','股价1（报告发布日股价）','日期2（发布日后5日）','股价2（发布日后5日股价）','涨跌幅','涨跌'],axis=1).values\n",
    "\n",
    "# 把正跌幅数据作为y\n",
    "y_test = df_q2['涨跌'].values\n",
    "# 把6个财务指标作为x\n",
    "x_test = df_q2.drop(['证券代码','证券名称','年度','季度','报告期','日期1（报告发布日）','股价1（报告发布日股价）','日期2（发布日后5日）','股价2（发布日后5日股价）','涨跌幅','涨跌'],axis=1).values\n",
    "\n",
    "rf = RandomForestClassifier(random_state=1)\n",
    "# 网格搜索与交叉验证\n",
    "\n",
    "print('GridSearchCV   BEGIN')\n",
    "gc = GridSearchCV(rf,param_grid={'n_estimators':[120,200,300,500,800,1200],'max_depth':[2,4,8,16,32]},cv=10)\n",
    "gc.fit(x_train,y_train)\n",
    "print('GridSearchCV   END')\n",
    "\n",
    "print('准确率有')\n",
    "print(gc.score(x_test,y_test))\n",
    "\n",
    "print('最佳模型')\n",
    "print(gc.best_estimator_)\n",
    "print(gc.best_score_)"
   ],
   "metadata": {
    "pycharm": {
     "metadata": false,
     "name": "#%%\n",
     "is_executing": false
    }
   }
  }
 ],
 "metadata": {
  "language_info": {
   "codemirror_mode": {
    "name": "ipython",
    "version": 2
   },
   "file_extension": ".py",
   "mimetype": "text/x-python",
   "name": "python",
   "nbconvert_exporter": "python",
   "pygments_lexer": "ipython2",
   "version": "2.7.6"
  },
  "kernelspec": {
   "name": "python3",
   "language": "python",
   "display_name": "Python 3"
  },
  "stem_cell": {
   "cell_type": "raw",
   "source": "",
   "metadata": {
    "pycharm": {
     "metadata": false
    }
   }
  },
  "pycharm": {
   "stem_cell": {
    "cell_type": "raw",
    "source": [],
    "metadata": {
     "collapsed": false
    }
   }
  }
 },
 "nbformat": 4,
 "nbformat_minor": 0
}
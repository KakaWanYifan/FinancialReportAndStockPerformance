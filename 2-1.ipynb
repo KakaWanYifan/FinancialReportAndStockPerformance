{
 "cells": [
  {
   "cell_type": "code",
   "execution_count": 1,
   "metadata": {
    "collapsed": true,
    "pycharm": {
     "is_executing": false
    }
   },
   "outputs": [
    {
     "name": "stdout",
     "text": [
      "[ 0  1  1  1  0  1 -1 -1 -1 -1 -1 -1 -1  1 -1  1  1 -1  1 -1  0  1 -1 -1\n  1 -1 -1  1  1 -1 -1  1  0 -1 -1  1  1  1 -1 -1 -1  1  1 -1 -1  1  1  1\n  1  1  1  1  1  1  0  1  1 -1 -1 -1 -1 -1  1 -1  1  1  1  1  0 -1 -1  1\n -1  1  1 -1 -1 -1 -1  1  1  1 -1 -1  1  1  1  1 -1  1  1 -1 -1  1 -1  1\n  1 -1  1 -1  1  1 -1 -1  1 -1  1 -1  1 -1 -1 -1  1 -1 -1  1 -1 -1 -1 -1]\n0.5\n"
     ],
     "output_type": "stream"
    }
   ],
   "source": [
    "# 导入pandas包，以读取数据\n",
    "import pandas as pd\n",
    "from sklearn.tree import DecisionTreeClassifier\n",
    "\n",
    "# 读取 data.xlsx 这个文件，q1这个sheet页的数据\n",
    "df_q1 = pd.read_excel('data2nd.xls',sheet_name='q1')\n",
    "df_q2 = pd.read_excel('data2nd.xls',sheet_name='q2')\n",
    "\n",
    "# 把正跌幅数据作为y\n",
    "y_train = df_q1['涨跌'].values\n",
    "# 把6个财务指标作为x\n",
    "x_train = df_q1.drop(['证券代码','证券名称','年度','季度','报告期','日期1（报告发布日）','股价1（报告发布日股价）','日期2（发布日后5日）','股价2（发布日后5日股价）','涨跌幅','涨跌'],axis=1).values\n",
    "\n",
    "# 把正跌幅数据作为y\n",
    "y_test = df_q2['涨跌'].values\n",
    "# 把6个财务指标作为x\n",
    "x_test = df_q2.drop(['证券代码','证券名称','年度','季度','报告期','日期1（报告发布日）','股价1（报告发布日股价）','日期2（发布日后5日）','股价2（发布日后5日股价）','涨跌幅','涨跌'],axis=1).values\n",
    "\n",
    "dec = DecisionTreeClassifier(random_state=1)\n",
    "\n",
    "dec.fit(x_train,y_train)\n",
    "print(dec.predict(x_test))\n",
    "print(dec.score(x_test,y_test))\n"
   ]
  }
 ],
 "metadata": {
  "language_info": {
   "codemirror_mode": {
    "name": "ipython",
    "version": 2
   },
   "file_extension": ".py",
   "mimetype": "text/x-python",
   "name": "python",
   "nbconvert_exporter": "python",
   "pygments_lexer": "ipython2",
   "version": "2.7.6"
  },
  "kernelspec": {
   "name": "python3",
   "language": "python",
   "display_name": "Python 3"
  },
  "pycharm": {
   "stem_cell": {
    "cell_type": "raw",
    "source": [],
    "metadata": {
     "collapsed": false
    }
   }
  }
 },
 "nbformat": 4,
 "nbformat_minor": 0
}
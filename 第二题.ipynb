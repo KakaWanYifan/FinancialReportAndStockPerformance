{
  "cells": [
    {
      "cell_type": "code",
      "execution_count": 1,
      "metadata": {
        "collapsed": true,
        "pycharm": {
          "is_executing": false
        }
      },
      "outputs": [
        {
          "name": "stdout",
          "text": [
            "正规方程\n-5.658749103252419\n[ 0.19348399  0.02489123 -0.02345345  0.01725051 -0.01929005  0.02177883]\n-0.15811539929292226\n"
          ],
          "output_type": "stream"
        }
      ],
      "source": "\n# 导入pandas包，以读取数据\nimport pandas as pd\n\n# 读取 data.xlsx 这个文件，q1这个sheet页的数据\ndf1 \u003d pd.read_excel(\u0027数据.xls\u0027,sheet_name\u003d\u00272014年之前\u0027)\ndf2 \u003d pd.read_excel(\u0027数据.xls\u0027,sheet_name\u003d\u00272014年\u0027)\n\n# 把正跌幅数据作为y\ny_train \u003d df1[\u0027涨跌幅\u0027].values\n# 把6个财务指标作为x\nx_train \u003d df1[[\u0027总资产周转率\u0027,\u0027流动资产周转率\u0027,\u0027扣除非经常性损益的ROE（扣除/摊薄）\u0027,\u0027经营活动产生的现金流量净额/负债合计\u0027,\u0027存货周转率\u0027,\u0027净资产收益率（摊薄）\u0027]].values\n\n# 把正跌幅数据作为y\ny_test \u003d df2[\u0027涨跌幅\u0027].values\n# 把6个财务指标作为x\nx_test \u003d df2[[\u0027总资产周转率\u0027,\u0027流动资产周转率\u0027,\u0027扣除非经常性损益的ROE（扣除/摊薄）\u0027,\u0027经营活动产生的现金流量净额/负债合计\u0027,\u0027存货周转率\u0027,\u0027净资产收益率（摊薄）\u0027]].values\n\n# 导入正规方程的包\nfrom sklearn.linear_model import LinearRegression\nprint(\u0027正规方程\u0027)\n# 实例化正规方程\nlr \u003d LinearRegression()\n# 训练模型\nlr.fit(x_train,y_train)\n# 打印模型R2\nprint(lr.score(x_test,y_test))\n# 打印模型的系数\nprint(lr.coef_)\n# 打印模型的截距\nprint(lr.intercept_)"
    }
  ],
  "metadata": {
    "language_info": {
      "codemirror_mode": {
        "name": "ipython",
        "version": 2
      },
      "file_extension": ".py",
      "mimetype": "text/x-python",
      "name": "python",
      "nbconvert_exporter": "python",
      "pygments_lexer": "ipython2",
      "version": "2.7.6"
    },
    "kernelspec": {
      "name": "python3",
      "language": "python",
      "display_name": "Python 3"
    }
  },
  "nbformat": 4,
  "nbformat_minor": 0
}
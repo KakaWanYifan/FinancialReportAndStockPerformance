{
 "cells": [
  {
   "cell_type": "code",
   "execution_count": 1,
   "metadata": {
    "collapsed": true,
    "pycharm": {
     "is_executing": false
    }
   },
   "outputs": [
    {
     "name": "stdout",
     "text": [
      "正规方程\n[ 0.16963449 -0.06924679 -0.09888731 -0.10070491 -0.02462757 -0.07394035]\n-0.06106685746345675\n"
     ],
     "output_type": "stream"
    }
   ],
   "source": [
    "# 导入pandas包，以读取数据\n",
    "import pandas as pd\n",
    "\n",
    "# 读取 data.xlsx 这个文件，q1这个sheet页的数据\n",
    "df_q1 = pd.read_excel('data.xlsx',sheet_name='q1')\n",
    "df_q2 = pd.read_excel('data.xlsx',sheet_name='q2')\n",
    "\n",
    "# 主要添加和修改了这部分的代码\n",
    "# 主要添加和修改了这部分的代码\n",
    "# 主要添加和修改了这部分的代码\n",
    "df = pd.concat([df_q1,df_q2],axis=0)\n",
    "from sklearn.preprocessing import MinMaxScaler\n",
    "mm = MinMaxScaler()\n",
    "mm.fit(df[['总资产净利润ROA','ROIC','总资产报酬率ROA','营业外收支净额/利润总额','净资产收益率（摊薄）','归属母公司股东的净利润-扣除非经常损益（同比增长率）']].values)\n",
    "\n",
    "# 把正跌幅数据作为y\n",
    "y_train = df_q1['涨跌幅'].values\n",
    "# 把6个财务指标作为x\n",
    "x_train = df_q1[['总资产净利润ROA','ROIC','总资产报酬率ROA','营业外收支净额/利润总额','净资产收益率（摊薄）','归属母公司股东的净利润-扣除非经常损益（同比增长率）']].values\n",
    "x_train = mm.transform(x_train)\n",
    "\n",
    "\n",
    "# 把正跌幅数据作为y\n",
    "y_test = df_q2['涨跌幅'].values\n",
    "# 把6个财务指标作为x\n",
    "x_test = df_q2[['总资产净利润ROA','ROIC','总资产报酬率ROA','营业外收支净额/利润总额','净资产收益率（摊薄）','归属母公司股东的净利润-扣除非经常损益（同比增长率）']].values\n",
    "x_test = mm.transform(x_test)\n",
    "\n",
    "# 导入正规方程的包\n",
    "from sklearn.linear_model import LinearRegression\n",
    "print('正规方程')\n",
    "# 实例化正规方程\n",
    "lr = LinearRegression()\n",
    "# 训练模型\n",
    "lr.fit(x_train,y_train)\n",
    "# 打印模型R2\n",
    "print(lr.coef_)\n",
    "print(lr.score(x_test,y_test))\n"
   ]
  }
 ],
 "metadata": {
  "language_info": {
   "codemirror_mode": {
    "name": "ipython",
    "version": 2
   },
   "file_extension": ".py",
   "mimetype": "text/x-python",
   "name": "python",
   "nbconvert_exporter": "python",
   "pygments_lexer": "ipython2",
   "version": "2.7.6"
  },
  "kernelspec": {
   "name": "python3",
   "language": "python",
   "display_name": "Python 3"
  },
  "pycharm": {
   "stem_cell": {
    "cell_type": "raw",
    "source": [],
    "metadata": {
     "collapsed": false
    }
   }
  }
 },
 "nbformat": 4,
 "nbformat_minor": 0
}
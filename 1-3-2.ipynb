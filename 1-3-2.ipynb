{
  "cells": [
    {
      "cell_type": "code",
      "execution_count": null,
      "metadata": {
        "collapsed": true,
        "pycharm": {}
      },
      "outputs": [],
      "source": "\n# 导入pandas包，以读取数据\nimport pandas as pd\n\n# 读取 data.xlsx 这个文件，q1这个sheet页的数据\ndf_q1 \u003d pd.read_excel(\u0027data.xlsx\u0027,sheet_name\u003d\u0027q1\u0027)\ndf_q2 \u003d pd.read_excel(\u0027data.xlsx\u0027,sheet_name\u003d\u0027q2\u0027)\n\n# 主要添加和修改了这部分的代码\n# 主要添加和修改了这部分的代码\n# 主要添加和修改了这部分的代码\ndf \u003d pd.concat([df_q1,df_q2],axis\u003d0)\nfrom sklearn.preprocessing import MinMaxScaler\nmm \u003d MinMaxScaler()\nmm.fit(df[[\u0027总资产净利润ROA\u0027,\u0027ROIC\u0027,\u0027总资产报酬率ROA\u0027,\u0027营业外收支净额/利润总额\u0027,\u0027净资产收益率（摊薄）\u0027,\u0027归属母公司股东的净利润-扣除非经常损益（同比增长率）\u0027]].values)\n\n# 把正跌幅数据作为y\ny_train \u003d df_q1[\u0027涨跌幅\u0027].values\n# 把6个财务指标作为x\nx_train \u003d df_q1[[\u0027总资产净利润ROA\u0027,\u0027ROIC\u0027,\u0027总资产报酬率ROA\u0027,\u0027营业外收支净额/利润总额\u0027,\u0027净资产收益率（摊薄）\u0027,\u0027归属母公司股东的净利润-扣除非经常损益（同比增长率）\u0027]].values\nx_train \u003d mm.transform(x_train)\n\n\n# 把正跌幅数据作为y\ny_test \u003d df_q2[\u0027涨跌幅\u0027].values\n# 把6个财务指标作为x\nx_test \u003d df_q2[[\u0027总资产净利润ROA\u0027,\u0027ROIC\u0027,\u0027总资产报酬率ROA\u0027,\u0027营业外收支净额/利润总额\u0027,\u0027净资产收益率（摊薄）\u0027,\u0027归属母公司股东的净利润-扣除非经常损益（同比增长率）\u0027]].values\nx_test \u003d mm.transform(x_test)\n\n# 导入正规方程的包\nfrom sklearn.linear_model import LinearRegression\nprint(\u0027正规方程\u0027)\n# 实例化正规方程\nlr \u003d LinearRegression()\n# 训练模型\nlr.fit(x_train,y_train)\n# 打印模型R2\nprint(lr.coef_)\nprint(lr.score(x_test,y_test))\n"
    }
  ],
  "metadata": {
    "language_info": {
      "codemirror_mode": {
        "name": "ipython",
        "version": 2
      },
      "file_extension": ".py",
      "mimetype": "text/x-python",
      "name": "python",
      "nbconvert_exporter": "python",
      "pygments_lexer": "ipython2",
      "version": "2.7.6"
    },
    "kernelspec": {
      "name": "python3",
      "language": "python",
      "display_name": "Python 3"
    }
  },
  "nbformat": 4,
  "nbformat_minor": 0
}
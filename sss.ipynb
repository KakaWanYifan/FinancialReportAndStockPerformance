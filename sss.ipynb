{
  "cells": [
    {
      "cell_type": "code",
      "execution_count": 15,
      "outputs": [
        {
          "name": "stdout",
          "text": [
            "[ 0  1  1  1  0  1 -1 -1 -1 -1 -1 -1 -1  1 -1  1  1 -1  1 -1  0  1 -1 -1\n  1 -1 -1  1  1 -1 -1  1  0 -1 -1  1  1  1 -1 -1 -1  1  1 -1 -1  1  1  1\n  1  1  1  1  1  1  0  1  1 -1 -1 -1 -1 -1  1 -1  1  1  1  1  0 -1 -1  1\n -1  1  1 -1 -1 -1 -1  1  1  1 -1 -1  1  1  1  1 -1  1  1 -1 -1  1 -1  1\n  1 -1  1 -1  1  1 -1 -1  1 -1  1 -1  1 -1 -1 -1  1 -1 -1  1 -1 -1 -1 -1]\n0.5\nFINISH\n"
          ],
          "output_type": "stream"
        }
      ],
      "source": "\n# 导入pandas包，以读取数据\nimport pandas as pd\nfrom sklearn.tree import DecisionTreeClassifier\n\n# 读取 data.xlsx 这个文件，q1这个sheet页的数据\ndf_q1 \u003d pd.read_excel(\u0027data2nd.xls\u0027,sheet_name\u003d\u0027q1\u0027)\ndf_q2 \u003d pd.read_excel(\u0027data2nd.xls\u0027,sheet_name\u003d\u0027q2\u0027)\n\n# 把正跌幅数据作为y\ny_train \u003d df_q1[\u0027涨跌\u0027].values\n# 把6个财务指标作为x\nx_train \u003d df_q1.drop([\u0027证券代码\u0027,\u0027证券名称\u0027,\u0027年度\u0027,\u0027季度\u0027,\u0027报告期\u0027,\u0027日期1（报告发布日）\u0027,\u0027股价1（报告发布日股价）\u0027,\u0027日期2（发布日后5日）\u0027,\u0027股价2（发布日后5日股价）\u0027,\u0027涨跌幅\u0027,\u0027涨跌\u0027],axis\u003d1).values\n\n# 把正跌幅数据作为y\ny_test \u003d df_q2[\u0027涨跌\u0027].values\n# 把6个财务指标作为x\nx_test \u003d df_q2.drop([\u0027证券代码\u0027,\u0027证券名称\u0027,\u0027年度\u0027,\u0027季度\u0027,\u0027报告期\u0027,\u0027日期1（报告发布日）\u0027,\u0027股价1（报告发布日股价）\u0027,\u0027日期2（发布日后5日）\u0027,\u0027股价2（发布日后5日股价）\u0027,\u0027涨跌幅\u0027,\u0027涨跌\u0027],axis\u003d1).values\n\ndec \u003d DecisionTreeClassifier(random_state\u003d1)\n\ndec.fit(x_train,y_train)\nprint(dec.predict(x_test))\nprint(dec.score(x_test,y_test))\n\nfrom sklearn.tree import export_graphviz\n# 格式必须dot\ndf_temp \u003d df_q2.drop([\u0027证券代码\u0027,\u0027证券名称\u0027,\u0027年度\u0027,\u0027季度\u0027,\u0027报告期\u0027,\u0027日期1（报告发布日）\u0027,\u0027股价1（报告发布日股价）\u0027,\u0027日期2（发布日后5日）\u0027,\u0027股价2（发布日后5日股价）\u0027,\u0027涨跌幅\u0027,\u0027涨跌\u0027],axis\u003d1)\nexport_graphviz(dec,out_file\u003d\u0027tree.dot\u0027,feature_names\u003ddf_temp.columns.values.tolist())\nprint(\u0027FINISH\u0027)\n",
      "metadata": {
        "pycharm": {
          "metadata": false,
          "name": "#%%\n",
          "is_executing": false
        }
      }
    }
  ],
  "metadata": {
    "language_info": {
      "codemirror_mode": {
        "name": "ipython",
        "version": 2
      },
      "file_extension": ".py",
      "mimetype": "text/x-python",
      "name": "python",
      "nbconvert_exporter": "python",
      "pygments_lexer": "ipython2",
      "version": "2.7.6"
    },
    "kernelspec": {
      "name": "python3",
      "language": "python",
      "display_name": "Python 3"
    },
    "stem_cell": {
      "cell_type": "raw",
      "source": "",
      "metadata": {
        "pycharm": {
          "metadata": false
        }
      }
    }
  },
  "nbformat": 4,
  "nbformat_minor": 0
}
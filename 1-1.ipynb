{
  "cells": [
    {
      "cell_type": "code",
      "execution_count": 1,
      "metadata": {
        "collapsed": true,
        "pycharm": {
          "is_executing": false
        }
      },
      "outputs": [
        {
          "name": "stdout",
          "text": [
            "[\u0027销售毛利率\u0027, \u0027总资产周转率\u0027, \u0027息税前利润/营业总收入\u0027, \u0027流动资产周转率\u0027, \u0027营业总成本/营业总收入\u0027, \u0027经营活动净收益/利润总额\u0027, \u0027固定资产周转率\u0027, \u0027经营活动产生的现金流净额/营业收入\u0027, \u0027扣除非经常损益后的净利润/净利润\u0027, \u0027营业外收支净额/利润总额\u0027, \u0027总资产报酬率ROA\u0027, \u0027扣除非经常性损益的ROE（扣除/摊薄）\u0027, \u0027销售商品提供劳务收到的现金/营业收入\u0027, \u0027应收账款周转率\u0027, \u0027销售期间费用率\u0027, \u0027ROIC\u0027, \u0027经营活动产生的现金流量净额/负债合计\u0027, \u0027营业总收入(合并报表，亿元)\u0027, \u0027净资产收益率（年化）\u0027, \u0027存货周转率\u0027, \u0027总资产净利润ROA\u0027, \u0027净资产收益率（摊薄）\u0027, \u0027归属母公司股东的权益/负债合计\u0027, \u0027归属母公司股东的净利润-扣除非经常损益（同比增长率）\u0027, \u0027总资产负债率\u0027]\n"
          ],
          "output_type": "stream"
        }
      ],
      "source": "\n# 导入pandas包，以读取数据\nimport pandas as pd\n\n# 读取 data.xlsx 这个文件，q1这个sheet页的数据\ndf_q1 \u003d pd.read_excel(\u0027data.xlsx\u0027,sheet_name\u003d\u0027q1\u0027)\n\n# 把正跌幅数据作为y\ny_train \u003d df_q1[\u0027涨跌幅\u0027].values\n# 把其他25个财务指标作为x\nx_train \u003d df_q1.drop([\u0027证券代码\u0027,\u0027证券名称\u0027,\u0027年度\u0027,\u0027季度\u0027,\u0027报告期\u0027,\u0027日期1（报告发布日）\u0027,\u0027股价1（报告发布日股价）\u0027,\u0027日期2（发布日后5日）\u0027,\u0027股价2（发布日后5日股价）\u0027,\u0027涨跌幅\u0027],axis\u003d1).values\n\n# 打印财务指标\nprint(df_q1.drop([\u0027证券代码\u0027,\u0027证券名称\u0027,\u0027年度\u0027,\u0027季度\u0027,\u0027报告期\u0027,\u0027日期1（报告发布日）\u0027,\u0027股价1（报告发布日股价）\u0027,\u0027日期2（发布日后5日）\u0027,\u0027股价2（发布日后5日股价）\u0027,\u0027涨跌幅\u0027],axis\u003d1).columns.values.tolist())"
    },
    {
      "cell_type": "code",
      "execution_count": 2,
      "outputs": [
        {
          "name": "stdout",
          "text": [
            "正规方程\n[ 3.21523548e-04  1.24377559e-02  8.12393296e-05 -1.34994789e-02\n  8.89782463e-04 -7.05145937e-06 -4.48405192e-04  1.00783342e-04\n  9.56534823e-07 -7.34734904e-05 -2.71302628e-03  1.07909736e-04\n  2.08276654e-05  6.54633857e-05 -4.41750652e-04 -2.43751108e-03\n  1.52893275e-02  3.05942090e-05  4.97117594e-04  9.89231145e-04\n  7.11994193e-03 -1.12882209e-03 -1.79840744e-03 -5.15626140e-06\n  4.88520571e-04]\n-0.09438018040824082\n"
          ],
          "output_type": "stream"
        }
      ],
      "source": "\n# 导入正规方程的包\nfrom sklearn.linear_model import LinearRegression\n\nprint(\u0027正规方程\u0027)\n# 实例化正规方程\nlr \u003d LinearRegression()\n# 训练模型\nlr.fit(x_train,y_train)\n# 打印模型的系数\nprint(lr.coef_)\n# 打印模型的截距\nprint(lr.intercept_)",
      "metadata": {
        "pycharm": {
          "metadata": false,
          "name": "#%%\n",
          "is_executing": false
        }
      }
    },
    {
      "cell_type": "code",
      "execution_count": 3,
      "outputs": [
        {
          "name": "stdout",
          "text": [
            "梯度下降\n[-6.88610724e+10 -5.31252823e+10  5.37449702e+11 -1.06371404e+11\n  2.45125687e+11  4.33626263e+11  7.24440714e+10  3.43549328e+10\n -5.47562231e+11 -1.07645660e+11  1.32285667e+11  7.36092659e+10\n -1.57947515e+11 -1.66758185e+11 -7.68067077e+10 -2.56500447e+11\n -4.34481137e+09  6.18191703e+10 -1.70471669e+11 -2.04171289e+11\n  1.70581861e+11  1.80526800e+11 -3.36473369e+11 -2.34144890e+11\n -2.21906176e+11]\n[2.9450096e+09]\n"
          ],
          "output_type": "stream"
        }
      ],
      "source": "\n# 导入梯度下降的包\nfrom sklearn.linear_model import SGDRegressor\n\nprint(\u0027梯度下降\u0027)\n# 实例化梯度下降\nsr \u003d SGDRegressor()\n# 训练模型\nsr.fit(x_train,y_train)\n# 打印模型的系数\nprint(sr.coef_)\n# 打印模型的截距\nprint(sr.intercept_)",
      "metadata": {
        "pycharm": {
          "metadata": false,
          "name": "#%%\n",
          "is_executing": false
        }
      }
    }
  ],
  "metadata": {
    "language_info": {
      "codemirror_mode": {
        "name": "ipython",
        "version": 2
      },
      "file_extension": ".py",
      "mimetype": "text/x-python",
      "name": "python",
      "nbconvert_exporter": "python",
      "pygments_lexer": "ipython2",
      "version": "2.7.6"
    },
    "kernelspec": {
      "name": "python3",
      "language": "python",
      "display_name": "Python 3"
    }
  },
  "nbformat": 4,
  "nbformat_minor": 0
}
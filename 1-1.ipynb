{
  "cells": [
    {
      "cell_type": "code",
      "execution_count": null,
      "metadata": {
        "collapsed": true,
        "pycharm": {}
      },
      "outputs": [],
      "source": "\n# 导入pandas包，以读取数据\nimport pandas as pd\n\n# 读取 data.xlsx 这个文件，q1这个sheet页的数据\ndf_q1 \u003d pd.read_excel(\u0027data.xlsx\u0027,sheet_name\u003d\u0027q1\u0027)\n\n# 把正跌幅数据作为y\ny_train \u003d df_q1[\u0027涨跌幅\u0027].values\n# 把其他25个财务指标作为x\nx_train \u003d df_q1.drop([\u0027证券代码\u0027,\u0027证券名称\u0027,\u0027年度\u0027,\u0027季度\u0027,\u0027报告期\u0027,\u0027日期1（报告发布日）\u0027,\u0027股价1（报告发布日股价）\u0027,\u0027日期2（发布日后5日）\u0027,\u0027股价2（发布日后5日股价）\u0027,\u0027涨跌幅\u0027],axis\u003d1).values\n\n# 打印财务指标\nprint(df_q1.drop([\u0027证券代码\u0027,\u0027证券名称\u0027,\u0027年度\u0027,\u0027季度\u0027,\u0027报告期\u0027,\u0027日期1（报告发布日）\u0027,\u0027股价1（报告发布日股价）\u0027,\u0027日期2（发布日后5日）\u0027,\u0027股价2（发布日后5日股价）\u0027,\u0027涨跌幅\u0027],axis\u003d1).columns.values.tolist())"
    },
    {
      "cell_type": "code",
      "execution_count": null,
      "outputs": [],
      "source": "\n# 导入正规方程的包\nfrom sklearn.linear_model import LinearRegression\n\nprint(\u0027正规方程\u0027)\n# 实例化正规方程\nlr \u003d LinearRegression()\n# 训练模型\nlr.fit(x_train,y_train)\n# 打印模型的系数\nprint(lr.coef_)\n# 打印模型的截距\nprint(lr.intercept_)",
      "metadata": {
        "pycharm": {
          "metadata": false,
          "name": "#%%\n"
        }
      }
    },
    {
      "cell_type": "code",
      "execution_count": null,
      "outputs": [],
      "source": "\n# 导入梯度下降的包\nfrom sklearn.linear_model import SGDRegressor\n\nprint(\u0027梯度下降\u0027)\n# 实例化梯度下降\nsr \u003d SGDRegressor()\n# 训练模型\nsr.fit(x_train,y_train)\n# 打印模型的系数\nprint(sr.coef_)\n# 打印模型的截距\nprint(sr.intercept_)",
      "metadata": {
        "pycharm": {
          "metadata": false,
          "name": "#%%\n"
        }
      }
    }
  ],
  "metadata": {
    "language_info": {
      "codemirror_mode": {
        "name": "ipython",
        "version": 2
      },
      "file_extension": ".py",
      "mimetype": "text/x-python",
      "name": "python",
      "nbconvert_exporter": "python",
      "pygments_lexer": "ipython2",
      "version": "2.7.6"
    },
    "kernelspec": {
      "name": "python3",
      "language": "python",
      "display_name": "Python 3"
    }
  },
  "nbformat": 4,
  "nbformat_minor": 0
}
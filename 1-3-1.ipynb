{
 "cells": [
  {
   "cell_type": "code",
   "execution_count": 1,
   "metadata": {
    "collapsed": true,
    "pycharm": {
     "is_executing": false
    }
   },
   "outputs": [
    {
     "name": "stdout",
     "text": [
      "正规方程\n",
      "[ 0.02577715  0.03291155  0.02533681 -0.06389033  0.0626228  -0.07485842\n",
      " -0.03077499  0.01570608  0.01556237 -0.13778144 -0.16308978  0.01070896\n",
      "  0.00241851  0.01997719 -0.03004152 -0.18054352  0.04669666  0.00673217\n",
      "  0.06063806  0.01925796  0.42843823 -0.11353693 -0.02181666 -0.10771239\n",
      "  0.04004559]\n"
     ],
     "output_type": "stream"
    }
   ],
   "source": "\n# 导入pandas包，以读取数据\nimport pandas as pd\n\n# 读取 data.xlsx 这个文件，q1这个sheet页的数据\ndf_q1 = pd.read_excel('data.xlsx',sheet_name='q1')\ndf_q2 = pd.read_excel('data.xlsx',sheet_name='q2')\n\n# 主要添加和修改了这部分的代码\n# 主要添加和修改了这部分的代码\n# 主要添加和修改了这部分的代码\ndf = pd.concat([df_q1,df_q2],axis=0)\nfrom sklearn.preprocessing import MinMaxScaler\nmm = MinMaxScaler()\nmm.fit(df.drop(['证券代码','证券名称','年度','季度','报告期','日期1（报告发布日）','股价1（报告发布日股价）','日期2（发布日后5日）','股价2（发布日后5日股价）','涨跌幅'],axis=1).values)\n# 把正跌幅数据作为y\ny_train = df_q1['涨跌幅'].values\n# 把6个财务指标作为x\nx_train = df_q1.drop(['证券代码','证券名称','年度','季度','报告期','日期1（报告发布日）','股价1（报告发布日股价）','日期2（发布日后5日）','股价2（发布日后5日股价）','涨跌幅'],axis=1).values\nx_train = mm.transform(x_train)\n\n# 导入正规方程的包\nfrom sklearn.linear_model import LinearRegression\nprint('正规方程')\n# 实例化正规方程\nlr = LinearRegression()\n# 训练模型\nlr.fit(x_train,y_train)\n# 打印模型R2\nprint(lr.coef_)\n"
  }
 ],
 "metadata": {
  "language_info": {
   "codemirror_mode": {
    "name": "ipython",
    "version": 2
   },
   "file_extension": ".py",
   "mimetype": "text/x-python",
   "name": "python",
   "nbconvert_exporter": "python",
   "pygments_lexer": "ipython2",
   "version": "2.7.6"
  },
  "kernelspec": {
   "name": "python3",
   "language": "python",
   "display_name": "Python 3"
  }
 },
 "nbformat": 4,
 "nbformat_minor": 0
}
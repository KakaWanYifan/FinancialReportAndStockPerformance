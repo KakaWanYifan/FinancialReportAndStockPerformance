{
  "cells": [
    {
      "cell_type": "code",
      "execution_count": 14,
      "outputs": [
        {
          "name": "stdout",
          "text": [
            "GridSearchCV   BEGIN\n",
            "GridSearchCV   END\n准确率有\n0.4583333333333333\n最佳模型\nDecisionTreeClassifier(ccp_alpha\u003d0.0, class_weight\u003dNone, criterion\u003d\u0027gini\u0027,\n                       max_depth\u003dNone, max_features\u003dNone, max_leaf_nodes\u003dNone,\n                       min_impurity_decrease\u003d0.0, min_impurity_split\u003dNone,\n                       min_samples_leaf\u003d1, min_samples_split\u003d2,\n                       min_weight_fraction_leaf\u003d0.0, presort\u003d\u0027deprecated\u0027,\n                       random_state\u003d339, splitter\u003d\u0027best\u0027)\n0.4809523809523809\n"
          ],
          "output_type": "stream"
        }
      ],
      "source": "\n# 导入pandas包，以读取数据\nimport pandas as pd\nfrom sklearn.tree import DecisionTreeClassifier\nfrom sklearn.model_selection import GridSearchCV\n\n# 读取 data.xlsx 这个文件，q1这个sheet页的数据\ndf_q1 \u003d pd.read_excel(\u0027data2nd.xls\u0027,sheet_name\u003d\u0027q1\u0027)\ndf_q2 \u003d pd.read_excel(\u0027data2nd.xls\u0027,sheet_name\u003d\u0027q2\u0027)\n\n# 把正跌幅数据作为y\ny_train \u003d df_q1[\u0027涨跌\u0027].values\n# 把6个财务指标作为x\nx_train \u003d df_q1.drop([\u0027证券代码\u0027,\u0027证券名称\u0027,\u0027年度\u0027,\u0027季度\u0027,\u0027报告期\u0027,\u0027日期1（报告发布日）\u0027,\u0027股价1（报告发布日股价）\u0027,\u0027日期2（发布日后5日）\u0027,\u0027股价2（发布日后5日股价）\u0027,\u0027涨跌幅\u0027,\u0027涨跌\u0027],axis\u003d1).values\n\n# 把正跌幅数据作为y\ny_test \u003d df_q2[\u0027涨跌\u0027].values\n# 把6个财务指标作为x\nx_test \u003d df_q2.drop([\u0027证券代码\u0027,\u0027证券名称\u0027,\u0027年度\u0027,\u0027季度\u0027,\u0027报告期\u0027,\u0027日期1（报告发布日）\u0027,\u0027股价1（报告发布日股价）\u0027,\u0027日期2（发布日后5日）\u0027,\u0027股价2（发布日后5日股价）\u0027,\u0027涨跌幅\u0027,\u0027涨跌\u0027],axis\u003d1).values\n\ndec \u003d DecisionTreeClassifier()\n\nprint(\u0027GridSearchCV   BEGIN\u0027)\ngc \u003d GridSearchCV(dec,param_grid\u003d{\u0027random_state\u0027:list(range(1000))},cv\u003d4)\ngc.fit(x_train,y_train)\nprint(\u0027GridSearchCV   END\u0027)\n\nprint(\u0027准确率有\u0027)\nprint(gc.score(x_test,y_test))\n\nprint(\u0027最佳模型\u0027)\nprint(gc.best_estimator_)\nprint(gc.best_score_)\n",
      "metadata": {
        "pycharm": {
          "metadata": false,
          "name": "#%%\n",
          "is_executing": false
        }
      }
    }
  ],
  "metadata": {
    "language_info": {
      "codemirror_mode": {
        "name": "ipython",
        "version": 2
      },
      "file_extension": ".py",
      "mimetype": "text/x-python",
      "name": "python",
      "nbconvert_exporter": "python",
      "pygments_lexer": "ipython2",
      "version": "2.7.6"
    },
    "kernelspec": {
      "name": "python3",
      "language": "python",
      "display_name": "Python 3"
    },
    "stem_cell": {
      "cell_type": "raw",
      "source": "",
      "metadata": {
        "pycharm": {
          "metadata": false
        }
      }
    }
  },
  "nbformat": 4,
  "nbformat_minor": 0
}
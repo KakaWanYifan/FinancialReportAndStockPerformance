{
 "cells": [
  {
   "cell_type": "code",
   "execution_count": 1,
   "metadata": {
    "collapsed": true,
    "pycharm": {
     "is_executing": false
    }
   },
   "outputs": [
    {
     "name": "stdout",
     "text": [
      "正规方程\n-0.057865816933251546\n[ 0.0045437  -0.00307429  0.00501173  0.00338773 -0.00237922 -0.00106071]\n0.008468582578686226\n"
     ],
     "output_type": "stream"
    }
   ],
   "source": [
    "# 导入pandas包，以读取数据\n",
    "import pandas as pd\n",
    "\n",
    "# 读取 data.xlsx 这个文件，q1这个sheet页的数据\n",
    "df_q1 = pd.read_excel('data.xlsx',sheet_name='q1')\n",
    "df_q2 = pd.read_excel('data.xlsx',sheet_name='q2')\n",
    "\n",
    "# 把正跌幅数据作为y\n",
    "y_train = df_q1['涨跌幅'].values\n",
    "# 把6个财务指标作为x\n",
    "x_train = df_q1[['经营活动产生的现金流量净额/负债合计','流动资产周转率','总资产周转率','总资产净利润ROA','总资产报酬率ROA','ROIC']].values\n",
    "\n",
    "# 把正跌幅数据作为y\n",
    "y_test = df_q2['涨跌幅'].values\n",
    "# 把6个财务指标作为x\n",
    "x_test = df_q2[['经营活动产生的现金流量净额/负债合计','流动资产周转率','总资产周转率','总资产净利润ROA','总资产报酬率ROA','ROIC']].values\n",
    "\n",
    "# 导入正规方程的包\n",
    "from sklearn.linear_model import LinearRegression\n",
    "print('正规方程')\n",
    "# 实例化正规方程\n",
    "lr = LinearRegression()\n",
    "# 训练模型\n",
    "lr.fit(x_train,y_train)\n",
    "# 打印模型R2\n",
    "print(lr.score(x_test,y_test))\n",
    "# 打印模型的系数\n",
    "print(lr.coef_)\n",
    "# 打印模型的截距\n",
    "print(lr.intercept_)\n"
   ]
  }
 ],
 "metadata": {
  "language_info": {
   "codemirror_mode": {
    "name": "ipython",
    "version": 2
   },
   "file_extension": ".py",
   "mimetype": "text/x-python",
   "name": "python",
   "nbconvert_exporter": "python",
   "pygments_lexer": "ipython2",
   "version": "2.7.6"
  },
  "kernelspec": {
   "name": "python3",
   "language": "python",
   "display_name": "Python 3"
  },
  "pycharm": {
   "stem_cell": {
    "cell_type": "raw",
    "source": [],
    "metadata": {
     "collapsed": false
    }
   }
  }
 },
 "nbformat": 4,
 "nbformat_minor": 0
}
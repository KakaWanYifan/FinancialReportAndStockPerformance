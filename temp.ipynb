{
 "cells": [
  {
   "cell_type": "code",
   "execution_count": 3,
   "outputs": [
    {
     "name": "stdout",
     "text": [
      "正规方程\n",
      "[[-0.08292703  0.12355905  0.00366242  0.04084528 -0.23429097  0.27234869\n",
      "  -0.00972521 -0.37602026  0.34455716 -0.28145427 -0.25421008  0.08372278\n",
      "  -0.420698  ]]\n",
      "0.7673777352034898\n",
      "梯度下降\n",
      "[-0.06385319  0.08345302 -0.03627706  0.04938196 -0.1765784   0.30463687\n",
      " -0.01899694 -0.30328012  0.13388837 -0.07274086 -0.23983808  0.08783632\n",
      " -0.4047362 ]\n",
      "0.7727651870533278\n"
     ],
     "output_type": "stream"
    },
    {
     "name": "stderr",
     "text": [
      "/Library/Frameworks/Python.framework/Versions/3.7/lib/python3.7/site-packages/sklearn/utils/validation.py:760: DataConversionWarning: A column-vector y was passed when a 1d array was expected. Please change the shape of y to (n_samples, ), for example using ravel().\n",
      "  y = column_or_1d(y, warn=True)\n"
     ],
     "output_type": "stream"
    }
   ],
   "source": [
    "from sklearn.datasets import load_boston\n",
    "from sklearn.preprocessing import StandardScaler\n",
    "from sklearn.model_selection import train_test_split\n",
    "from sklearn.linear_model import LinearRegression\n",
    "from sklearn.linear_model import SGDRegressor\n",
    "\n",
    "# 获取数据\n",
    "lb = load_boston()\n",
    "\n",
    "# 分割数据集到训练集和测试集\n",
    "x_train, x_test, y_train, y_test = train_test_split(lb.data, lb.target, test_size=0.25)\n",
    "\n",
    "# 特征值和目标值是都必须进行标准化处理, 实例化两个标准化API\n",
    "std_x = StandardScaler()\n",
    "x_train = std_x.fit_transform(x_train)\n",
    "x_test = std_x.transform(x_test)\n",
    "\n",
    "# 目标值\n",
    "std_y = StandardScaler()\n",
    "y_train = std_y.fit_transform(y_train.reshape(-1,1))\n",
    "y_test = std_y.transform(y_test.reshape(-1,1))\n",
    "\n",
    "print('正规方程')\n",
    "lr = LinearRegression()\n",
    "lr.fit(x_train,y_train)\n",
    "print(lr.coef_)\n",
    "print(lr.score(x_test,y_test))\n",
    "\n",
    "print('梯度下降')\n",
    "sr = SGDRegressor()\n",
    "sr.fit(x_train,y_train)\n",
    "print(sr.coef_)\n",
    "print(sr.score(x_test,y_test))"
   ],
   "metadata": {
    "collapsed": false,
    "pycharm": {
     "name": "#%%\n",
     "is_executing": false
    }
   }
  }
 ],
 "metadata": {
  "kernelspec": {
   "display_name": "Python 3",
   "language": "python",
   "name": "python3"
  },
  "language_info": {
   "codemirror_mode": {
    "name": "ipython",
    "version": 2
   },
   "file_extension": ".py",
   "mimetype": "text/x-python",
   "name": "python",
   "nbconvert_exporter": "python",
   "pygments_lexer": "ipython2",
   "version": "2.7.6"
  },
  "pycharm": {
   "stem_cell": {
    "cell_type": "raw",
    "source": [],
    "metadata": {
     "collapsed": false
    }
   }
  }
 },
 "nbformat": 4,
 "nbformat_minor": 0
}
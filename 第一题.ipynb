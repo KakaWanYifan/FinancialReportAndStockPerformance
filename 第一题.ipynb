{
  "cells": [
    {
      "cell_type": "code",
      "execution_count": 2,
      "outputs": [
        {
          "name": "stdout",
          "text": [
            "[\u0027销售毛利率\u0027, \u0027总资产周转率\u0027, \u0027息税前利润/营业总收入\u0027, \u0027流动资产周转率\u0027, \u0027营业总成本/营业总收入\u0027, \u0027经营活动净收益/利润总额\u0027, \u0027固定资产周转率\u0027, \u0027经营活动产生的现金流净额/营业收入\u0027, \u0027扣除非经常损益后的净利润/净利润\u0027, \u0027营业外收支净额/利润总额\u0027, \u0027总资产报酬率ROA\u0027, \u0027扣除非经常性损益的ROE（扣除/摊薄）\u0027, \u0027销售商品提供劳务收到的现金/营业收入\u0027, \u0027应收账款周转率\u0027, \u0027销售期间费用率\u0027, \u0027ROIC\u0027, \u0027经营活动产生的现金流量净额/负债合计\u0027, \u0027营业总收入(合并报表，亿元)\u0027, \u0027净资产收益率（年化）\u0027, \u0027存货周转率\u0027, \u0027总资产净利润ROA\u0027, \u0027净资产收益率（摊薄）\u0027, \u0027归属母公司股东的权益/负债合计\u0027, \u0027归属母公司股东的净利润-扣除非经常损益（同比增长率）\u0027, \u0027总资产负债率\u0027]\n"
          ],
          "output_type": "stream"
        }
      ],
      "source": "\nimport pandas as pd\n\ndf1 \u003d pd.read_excel(\u0027数据.xls\u0027,sheet_name\u003d\u00272014年之前\u0027)\n\ny_train \u003d df1[\u0027涨跌幅\u0027].values\nx_train \u003d df1.drop([\u0027证券代码\u0027,\u0027证券名称\u0027,\u0027年度\u0027,\u0027季度\u0027,\u0027报告期\u0027,\u0027日期1（报告发布日）\u0027,\u0027股价1（报告发布日股价）\u0027,\u0027日期2（发布日后5日）\u0027,\u0027股价2（发布日后5日股价）\u0027,\u0027涨跌幅\u0027],axis\u003d1).values\n\nprint(df1.drop([\u0027证券代码\u0027,\u0027证券名称\u0027,\u0027年度\u0027,\u0027季度\u0027,\u0027报告期\u0027,\u0027日期1（报告发布日）\u0027,\u0027股价1（报告发布日股价）\u0027,\u0027日期2（发布日后5日）\u0027,\u0027股价2（发布日后5日股价）\u0027,\u0027涨跌幅\u0027],axis\u003d1).columns.values.tolist())",
      "metadata": {
        "pycharm": {
          "metadata": false,
          "name": "#%%\n",
          "is_executing": false
        }
      }
    },
    {
      "cell_type": "code",
      "execution_count": 3,
      "outputs": [
        {
          "name": "stdout",
          "text": [
            "正规方程\n[ 1.87913066e-03  6.68865152e-02  7.86339419e-03 -1.96031922e-02\n  8.15103437e-03 -1.00076802e-04  1.30935197e-02  6.80933673e-04\n  7.13096315e-04 -2.16560240e-05  1.02591733e-03 -1.21608647e-02\n  6.54508469e-04  8.37054230e-06 -1.65254554e-03 -8.28591961e-03\n -4.70683406e-02  7.75925795e-04 -8.54178829e-04 -1.46581987e-02\n -6.94535968e-03  1.76620157e-02  3.11337065e-03  2.58872136e-06\n -1.05708080e-03]\n-0.9724928452507484\n"
          ],
          "output_type": "stream"
        }
      ],
      "source": "\nfrom sklearn.linear_model import LinearRegression\n\nprint(\u0027正规方程\u0027)\nlr \u003d LinearRegression()\nlr.fit(x_train,y_train)\nprint(lr.coef_)\nprint(lr.intercept_)\n",
      "metadata": {
        "pycharm": {
          "metadata": false,
          "name": "#%%\n",
          "is_executing": false
        }
      }
    }
  ],
  "metadata": {
    "language_info": {
      "codemirror_mode": {
        "name": "ipython",
        "version": 2
      },
      "file_extension": ".py",
      "mimetype": "text/x-python",
      "name": "python",
      "nbconvert_exporter": "python",
      "pygments_lexer": "ipython2",
      "version": "2.7.6"
    },
    "kernelspec": {
      "name": "python3",
      "language": "python",
      "display_name": "Python 3"
    },
    "stem_cell": {
      "cell_type": "raw",
      "source": "",
      "metadata": {
        "pycharm": {
          "metadata": false
        }
      }
    }
  },
  "nbformat": 4,
  "nbformat_minor": 0
}